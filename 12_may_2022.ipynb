{
  "nbformat": 4,
  "nbformat_minor": 0,
  "metadata": {
    "colab": {
      "name": "12 may 2022.ipynb",
      "provenance": [],
      "include_colab_link": true
    },
    "kernelspec": {
      "name": "python3",
      "display_name": "Python 3"
    },
    "language_info": {
      "name": "python"
    }
  },
  "cells": [
    {
      "cell_type": "markdown",
      "metadata": {
        "id": "view-in-github",
        "colab_type": "text"
      },
      "source": [
        "<a href=\"https://colab.research.google.com/github/100gods/NLP/blob/main/12_may_2022.ipynb\" target=\"_parent\"><img src=\"https://colab.research.google.com/assets/colab-badge.svg\" alt=\"Open In Colab\"/></a>"
      ]
    },
    {
      "cell_type": "code",
      "execution_count": null,
      "metadata": {
        "id": "4v3Pl47MRFH5"
      },
      "outputs": [],
      "source": [
        "from sklearn.feature_extraction.text import CountVectorizer\n",
        "import warnings\n",
        "warnings.filterwarnings(\"ignore\")"
      ]
    },
    {
      "cell_type": "code",
      "source": [
        "sentence = [\"This is a sentence\",\n",
        "            \"this is a second sentence and third sentence\",\n",
        "            \" this is a another sentence\" ]"
      ],
      "metadata": {
        "id": "9lCw-1gJXwOY"
      },
      "execution_count": null,
      "outputs": []
    },
    {
      "cell_type": "code",
      "source": [
        "model = CountVectorizer(ngram_range=(1,2), max_features=10)\n",
        "x = model.fit_transform(sentence)"
      ],
      "metadata": {
        "id": "DEE-gTPyYcHQ"
      },
      "execution_count": null,
      "outputs": []
    },
    {
      "cell_type": "code",
      "source": [
        "vocab = model.get_feature_names()"
      ],
      "metadata": {
        "id": "4EHYDuWuYs9o"
      },
      "execution_count": null,
      "outputs": []
    },
    {
      "cell_type": "code",
      "source": [
        "len(vocab)"
      ],
      "metadata": {
        "colab": {
          "base_uri": "https://localhost:8080/"
        },
        "id": "KEhp7sxsY0Rz",
        "outputId": "d6934fa5-d36b-402b-e73a-382cd6e4ddfe"
      },
      "execution_count": null,
      "outputs": [
        {
          "output_type": "execute_result",
          "data": {
            "text/plain": [
              "10"
            ]
          },
          "metadata": {},
          "execution_count": 47
        }
      ]
    },
    {
      "cell_type": "code",
      "source": [
        "vocab"
      ],
      "metadata": {
        "colab": {
          "base_uri": "https://localhost:8080/"
        },
        "id": "Y4sGkK1aZUxn",
        "outputId": "43eb3cf7-d296-4257-b1e9-e66acdebb2c5"
      },
      "execution_count": null,
      "outputs": [
        {
          "output_type": "execute_result",
          "data": {
            "text/plain": [
              "['and',\n",
              " 'and third',\n",
              " 'another',\n",
              " 'another sentence',\n",
              " 'is',\n",
              " 'is another',\n",
              " 'is second',\n",
              " 'sentence',\n",
              " 'this',\n",
              " 'this is']"
            ]
          },
          "metadata": {},
          "execution_count": 48
        }
      ]
    },
    {
      "cell_type": "code",
      "source": [
        "updateimport pandas as pd\n",
        "x = pd.DataFrame(x.toarray(), columns=vocab)\n",
        "x[\"Text\"]= pd.Series(sentence)"
      ],
      "metadata": {
        "id": "9EIVQva6Ze-q"
      },
      "execution_count": null,
      "outputs": []
    },
    {
      "cell_type": "code",
      "source": [
        "x"
      ],
      "metadata": {
        "colab": {
          "base_uri": "https://localhost:8080/",
          "height": 222
        },
        "id": "1GrLWL8hZl0R",
        "outputId": "97b3090a-050f-4910-b1d5-a8e81ab6f3ce"
      },
      "execution_count": null,
      "outputs": [
        {
          "output_type": "execute_result",
          "data": {
            "text/plain": [
              "   and  and third  another  another sentence  is  is another  is second  \\\n",
              "0    0          0        0                 0   1           0          0   \n",
              "1    1          1        0                 0   1           0          1   \n",
              "2    0          0        1                 1   1           1          0   \n",
              "\n",
              "   sentence  this  this is                                          Text  \n",
              "0         1     1        1                            This is a sentence  \n",
              "1         2     1        1  this is a second sentence and third sentence  \n",
              "2         1     1        1                    this is a another sentence  "
            ],
            "text/html": [
              "\n",
              "  <div id=\"df-7adf40db-e419-4de3-8806-527d9b427960\">\n",
              "    <div class=\"colab-df-container\">\n",
              "      <div>\n",
              "<style scoped>\n",
              "    .dataframe tbody tr th:only-of-type {\n",
              "        vertical-align: middle;\n",
              "    }\n",
              "\n",
              "    .dataframe tbody tr th {\n",
              "        vertical-align: top;\n",
              "    }\n",
              "\n",
              "    .dataframe thead th {\n",
              "        text-align: right;\n",
              "    }\n",
              "</style>\n",
              "<table border=\"1\" class=\"dataframe\">\n",
              "  <thead>\n",
              "    <tr style=\"text-align: right;\">\n",
              "      <th></th>\n",
              "      <th>and</th>\n",
              "      <th>and third</th>\n",
              "      <th>another</th>\n",
              "      <th>another sentence</th>\n",
              "      <th>is</th>\n",
              "      <th>is another</th>\n",
              "      <th>is second</th>\n",
              "      <th>sentence</th>\n",
              "      <th>this</th>\n",
              "      <th>this is</th>\n",
              "      <th>Text</th>\n",
              "    </tr>\n",
              "  </thead>\n",
              "  <tbody>\n",
              "    <tr>\n",
              "      <th>0</th>\n",
              "      <td>0</td>\n",
              "      <td>0</td>\n",
              "      <td>0</td>\n",
              "      <td>0</td>\n",
              "      <td>1</td>\n",
              "      <td>0</td>\n",
              "      <td>0</td>\n",
              "      <td>1</td>\n",
              "      <td>1</td>\n",
              "      <td>1</td>\n",
              "      <td>This is a sentence</td>\n",
              "    </tr>\n",
              "    <tr>\n",
              "      <th>1</th>\n",
              "      <td>1</td>\n",
              "      <td>1</td>\n",
              "      <td>0</td>\n",
              "      <td>0</td>\n",
              "      <td>1</td>\n",
              "      <td>0</td>\n",
              "      <td>1</td>\n",
              "      <td>2</td>\n",
              "      <td>1</td>\n",
              "      <td>1</td>\n",
              "      <td>this is a second sentence and third sentence</td>\n",
              "    </tr>\n",
              "    <tr>\n",
              "      <th>2</th>\n",
              "      <td>0</td>\n",
              "      <td>0</td>\n",
              "      <td>1</td>\n",
              "      <td>1</td>\n",
              "      <td>1</td>\n",
              "      <td>1</td>\n",
              "      <td>0</td>\n",
              "      <td>1</td>\n",
              "      <td>1</td>\n",
              "      <td>1</td>\n",
              "      <td>this is a another sentence</td>\n",
              "    </tr>\n",
              "  </tbody>\n",
              "</table>\n",
              "</div>\n",
              "      <button class=\"colab-df-convert\" onclick=\"convertToInteractive('df-7adf40db-e419-4de3-8806-527d9b427960')\"\n",
              "              title=\"Convert this dataframe to an interactive table.\"\n",
              "              style=\"display:none;\">\n",
              "        \n",
              "  <svg xmlns=\"http://www.w3.org/2000/svg\" height=\"24px\"viewBox=\"0 0 24 24\"\n",
              "       width=\"24px\">\n",
              "    <path d=\"M0 0h24v24H0V0z\" fill=\"none\"/>\n",
              "    <path d=\"M18.56 5.44l.94 2.06.94-2.06 2.06-.94-2.06-.94-.94-2.06-.94 2.06-2.06.94zm-11 1L8.5 8.5l.94-2.06 2.06-.94-2.06-.94L8.5 2.5l-.94 2.06-2.06.94zm10 10l.94 2.06.94-2.06 2.06-.94-2.06-.94-.94-2.06-.94 2.06-2.06.94z\"/><path d=\"M17.41 7.96l-1.37-1.37c-.4-.4-.92-.59-1.43-.59-.52 0-1.04.2-1.43.59L10.3 9.45l-7.72 7.72c-.78.78-.78 2.05 0 2.83L4 21.41c.39.39.9.59 1.41.59.51 0 1.02-.2 1.41-.59l7.78-7.78 2.81-2.81c.8-.78.8-2.07 0-2.86zM5.41 20L4 18.59l7.72-7.72 1.47 1.35L5.41 20z\"/>\n",
              "  </svg>\n",
              "      </button>\n",
              "      \n",
              "  <style>\n",
              "    .colab-df-container {\n",
              "      display:flex;\n",
              "      flex-wrap:wrap;\n",
              "      gap: 12px;\n",
              "    }\n",
              "\n",
              "    .colab-df-convert {\n",
              "      background-color: #E8F0FE;\n",
              "      border: none;\n",
              "      border-radius: 50%;\n",
              "      cursor: pointer;\n",
              "      display: none;\n",
              "      fill: #1967D2;\n",
              "      height: 32px;\n",
              "      padding: 0 0 0 0;\n",
              "      width: 32px;\n",
              "    }\n",
              "\n",
              "    .colab-df-convert:hover {\n",
              "      background-color: #E2EBFA;\n",
              "      box-shadow: 0px 1px 2px rgba(60, 64, 67, 0.3), 0px 1px 3px 1px rgba(60, 64, 67, 0.15);\n",
              "      fill: #174EA6;\n",
              "    }\n",
              "\n",
              "    [theme=dark] .colab-df-convert {\n",
              "      background-color: #3B4455;\n",
              "      fill: #D2E3FC;\n",
              "    }\n",
              "\n",
              "    [theme=dark] .colab-df-convert:hover {\n",
              "      background-color: #434B5C;\n",
              "      box-shadow: 0px 1px 3px 1px rgba(0, 0, 0, 0.15);\n",
              "      filter: drop-shadow(0px 1px 2px rgba(0, 0, 0, 0.3));\n",
              "      fill: #FFFFFF;\n",
              "    }\n",
              "  </style>\n",
              "\n",
              "      <script>\n",
              "        const buttonEl =\n",
              "          document.querySelector('#df-7adf40db-e419-4de3-8806-527d9b427960 button.colab-df-convert');\n",
              "        buttonEl.style.display =\n",
              "          google.colab.kernel.accessAllowed ? 'block' : 'none';\n",
              "\n",
              "        async function convertToInteractive(key) {\n",
              "          const element = document.querySelector('#df-7adf40db-e419-4de3-8806-527d9b427960');\n",
              "          const dataTable =\n",
              "            await google.colab.kernel.invokeFunction('convertToInteractive',\n",
              "                                                     [key], {});\n",
              "          if (!dataTable) return;\n",
              "\n",
              "          const docLinkHtml = 'Like what you see? Visit the ' +\n",
              "            '<a target=\"_blank\" href=https://colab.research.google.com/notebooks/data_table.ipynb>data table notebook</a>'\n",
              "            + ' to learn more about interactive tables.';\n",
              "          element.innerHTML = '';\n",
              "          dataTable['output_type'] = 'display_data';\n",
              "          await google.colab.output.renderOutput(dataTable, element);\n",
              "          const docLink = document.createElement('div');\n",
              "          docLink.innerHTML = docLinkHtml;\n",
              "          element.appendChild(docLink);\n",
              "        }\n",
              "      </script>\n",
              "    </div>\n",
              "  </div>\n",
              "  "
            ]
          },
          "metadata": {},
          "execution_count": 50
        }
      ]
    },
    {
      "cell_type": "code",
      "source": [
        "from sklearn.feature_extraction.text import TfidfVectorizer\n",
        "m2 = TfidfVectorizer(max_features=5)\n",
        "x1 = m2.fit_transform(sentence)"
      ],
      "metadata": {
        "id": "D6STGqElZzAh"
      },
      "execution_count": null,
      "outputs": []
    },
    {
      "cell_type": "code",
      "source": [
        "m2.get_feature_names()"
      ],
      "metadata": {
        "colab": {
          "base_uri": "https://localhost:8080/"
        },
        "id": "1u3P1GRUfsqh",
        "outputId": "056c611e-a244-4584-b71d-03a9230ad914"
      },
      "execution_count": null,
      "outputs": [
        {
          "output_type": "execute_result",
          "data": {
            "text/plain": [
              "['and', 'another', 'is', 'sentence', 'this']"
            ]
          },
          "metadata": {},
          "execution_count": 61
        }
      ]
    },
    {
      "cell_type": "code",
      "source": [
        "s1 = pd.DataFrame(x1.toarray(), columns=m2.get_feature_names())\n",
        "s1[\"Text\"]= pd.Series(sentence)"
      ],
      "metadata": {
        "id": "OXNp5yTdfvjj"
      },
      "execution_count": null,
      "outputs": []
    },
    {
      "cell_type": "code",
      "source": [
        "s1"
      ],
      "metadata": {
        "colab": {
          "base_uri": "https://localhost:8080/",
          "height": 143
        },
        "id": "M7xyykZNf7Rx",
        "outputId": "9f782a9f-efa2-46f9-e74e-76e6ff9d8f84"
      },
      "execution_count": null,
      "outputs": [
        {
          "output_type": "execute_result",
          "data": {
            "text/plain": [
              "        and  another        is  sentence      this  \\\n",
              "0  0.000000  0.00000  0.577350  0.577350  0.577350   \n",
              "1  0.568607  0.00000  0.335829  0.671657  0.335829   \n",
              "2  0.000000  0.69903  0.412859  0.412859  0.412859   \n",
              "\n",
              "                                           Text  \n",
              "0                            This is a sentence  \n",
              "1  this is a second sentence and third sentence  \n",
              "2                    this is a another sentence  "
            ],
            "text/html": [
              "\n",
              "  <div id=\"df-d4ec55bd-f18d-49da-b84a-56ca4e394443\">\n",
              "    <div class=\"colab-df-container\">\n",
              "      <div>\n",
              "<style scoped>\n",
              "    .dataframe tbody tr th:only-of-type {\n",
              "        vertical-align: middle;\n",
              "    }\n",
              "\n",
              "    .dataframe tbody tr th {\n",
              "        vertical-align: top;\n",
              "    }\n",
              "\n",
              "    .dataframe thead th {\n",
              "        text-align: right;\n",
              "    }\n",
              "</style>\n",
              "<table border=\"1\" class=\"dataframe\">\n",
              "  <thead>\n",
              "    <tr style=\"text-align: right;\">\n",
              "      <th></th>\n",
              "      <th>and</th>\n",
              "      <th>another</th>\n",
              "      <th>is</th>\n",
              "      <th>sentence</th>\n",
              "      <th>this</th>\n",
              "      <th>Text</th>\n",
              "    </tr>\n",
              "  </thead>\n",
              "  <tbody>\n",
              "    <tr>\n",
              "      <th>0</th>\n",
              "      <td>0.000000</td>\n",
              "      <td>0.00000</td>\n",
              "      <td>0.577350</td>\n",
              "      <td>0.577350</td>\n",
              "      <td>0.577350</td>\n",
              "      <td>This is a sentence</td>\n",
              "    </tr>\n",
              "    <tr>\n",
              "      <th>1</th>\n",
              "      <td>0.568607</td>\n",
              "      <td>0.00000</td>\n",
              "      <td>0.335829</td>\n",
              "      <td>0.671657</td>\n",
              "      <td>0.335829</td>\n",
              "      <td>this is a second sentence and third sentence</td>\n",
              "    </tr>\n",
              "    <tr>\n",
              "      <th>2</th>\n",
              "      <td>0.000000</td>\n",
              "      <td>0.69903</td>\n",
              "      <td>0.412859</td>\n",
              "      <td>0.412859</td>\n",
              "      <td>0.412859</td>\n",
              "      <td>this is a another sentence</td>\n",
              "    </tr>\n",
              "  </tbody>\n",
              "</table>\n",
              "</div>\n",
              "      <button class=\"colab-df-convert\" onclick=\"convertToInteractive('df-d4ec55bd-f18d-49da-b84a-56ca4e394443')\"\n",
              "              title=\"Convert this dataframe to an interactive table.\"\n",
              "              style=\"display:none;\">\n",
              "        \n",
              "  <svg xmlns=\"http://www.w3.org/2000/svg\" height=\"24px\"viewBox=\"0 0 24 24\"\n",
              "       width=\"24px\">\n",
              "    <path d=\"M0 0h24v24H0V0z\" fill=\"none\"/>\n",
              "    <path d=\"M18.56 5.44l.94 2.06.94-2.06 2.06-.94-2.06-.94-.94-2.06-.94 2.06-2.06.94zm-11 1L8.5 8.5l.94-2.06 2.06-.94-2.06-.94L8.5 2.5l-.94 2.06-2.06.94zm10 10l.94 2.06.94-2.06 2.06-.94-2.06-.94-.94-2.06-.94 2.06-2.06.94z\"/><path d=\"M17.41 7.96l-1.37-1.37c-.4-.4-.92-.59-1.43-.59-.52 0-1.04.2-1.43.59L10.3 9.45l-7.72 7.72c-.78.78-.78 2.05 0 2.83L4 21.41c.39.39.9.59 1.41.59.51 0 1.02-.2 1.41-.59l7.78-7.78 2.81-2.81c.8-.78.8-2.07 0-2.86zM5.41 20L4 18.59l7.72-7.72 1.47 1.35L5.41 20z\"/>\n",
              "  </svg>\n",
              "      </button>\n",
              "      \n",
              "  <style>\n",
              "    .colab-df-container {\n",
              "      display:flex;\n",
              "      flex-wrap:wrap;\n",
              "      gap: 12px;\n",
              "    }\n",
              "\n",
              "    .colab-df-convert {\n",
              "      background-color: #E8F0FE;\n",
              "      border: none;\n",
              "      border-radius: 50%;\n",
              "      cursor: pointer;\n",
              "      display: none;\n",
              "      fill: #1967D2;\n",
              "      height: 32px;\n",
              "      padding: 0 0 0 0;\n",
              "      width: 32px;\n",
              "    }\n",
              "\n",
              "    .colab-df-convert:hover {\n",
              "      background-color: #E2EBFA;\n",
              "      box-shadow: 0px 1px 2px rgba(60, 64, 67, 0.3), 0px 1px 3px 1px rgba(60, 64, 67, 0.15);\n",
              "      fill: #174EA6;\n",
              "    }\n",
              "\n",
              "    [theme=dark] .colab-df-convert {\n",
              "      background-color: #3B4455;\n",
              "      fill: #D2E3FC;\n",
              "    }\n",
              "\n",
              "    [theme=dark] .colab-df-convert:hover {\n",
              "      background-color: #434B5C;\n",
              "      box-shadow: 0px 1px 3px 1px rgba(0, 0, 0, 0.15);\n",
              "      filter: drop-shadow(0px 1px 2px rgba(0, 0, 0, 0.3));\n",
              "      fill: #FFFFFF;\n",
              "    }\n",
              "  </style>\n",
              "\n",
              "      <script>\n",
              "        const buttonEl =\n",
              "          document.querySelector('#df-d4ec55bd-f18d-49da-b84a-56ca4e394443 button.colab-df-convert');\n",
              "        buttonEl.style.display =\n",
              "          google.colab.kernel.accessAllowed ? 'block' : 'none';\n",
              "\n",
              "        async function convertToInteractive(key) {\n",
              "          const element = document.querySelector('#df-d4ec55bd-f18d-49da-b84a-56ca4e394443');\n",
              "          const dataTable =\n",
              "            await google.colab.kernel.invokeFunction('convertToInteractive',\n",
              "                                                     [key], {});\n",
              "          if (!dataTable) return;\n",
              "\n",
              "          const docLinkHtml = 'Like what you see? Visit the ' +\n",
              "            '<a target=\"_blank\" href=https://colab.research.google.com/notebooks/data_table.ipynb>data table notebook</a>'\n",
              "            + ' to learn more about interactive tables.';\n",
              "          element.innerHTML = '';\n",
              "          dataTable['output_type'] = 'display_data';\n",
              "          await google.colab.output.renderOutput(dataTable, element);\n",
              "          const docLink = document.createElement('div');\n",
              "          docLink.innerHTML = docLinkHtml;\n",
              "          element.appendChild(docLink);\n",
              "        }\n",
              "      </script>\n",
              "    </div>\n",
              "  </div>\n",
              "  "
            ]
          },
          "metadata": {},
          "execution_count": 63
        }
      ]
    },
    {
      "cell_type": "code",
      "source": [
        "import nltk\n",
        "from nltk.tokenize import word_tokenize, sent_tokenize"
      ],
      "metadata": {
        "id": "UKq70MrqgbCM"
      },
      "execution_count": null,
      "outputs": []
    },
    {
      "cell_type": "code",
      "source": [
        "text = \"Machine learning (ML) is the study of computer algorithms that can improve automatically through experience and by the use of data.[1] It is seen as a part of artificial intelligence. Machine learning algorithms build a model based on sample data, known as training data, in order to make predictions or decisions without being explicitly programmed to do so.[2] Machine learning algorithms are used in a wide variety of applications, such as in medicine, email filtering, speech recognition, and computer vision, where it is difficult or unfeasible to develop conventional algorithms to perform the needed tasks.[3]\""
      ],
      "metadata": {
        "id": "XqrJlAjei-cm"
      },
      "execution_count": null,
      "outputs": []
    },
    {
      "cell_type": "code",
      "source": [
        "nltk.download('punkt')\n",
        "text = sent_tokenize(text)"
      ],
      "metadata": {
        "colab": {
          "base_uri": "https://localhost:8080/"
        },
        "id": "4CDL2bTmjIHQ",
        "outputId": "3a2d9b39-b2c9-4b1b-c023-9c009c24fe8c"
      },
      "execution_count": null,
      "outputs": [
        {
          "output_type": "stream",
          "name": "stdout",
          "text": [
            "[nltk_data] Downloading package punkt to /root/nltk_data...\n",
            "[nltk_data]   Unzipping tokenizers/punkt.zip.\n"
          ]
        }
      ]
    },
    {
      "cell_type": "code",
      "source": [
        "df = pd.DataFrame(text, columns=[\"Text\"])\n",
        "df[\"Text\"] = df[\"Text\"].apply(word_tokenize)"
      ],
      "metadata": {
        "id": "nM9rtaXBjPfv"
      },
      "execution_count": null,
      "outputs": []
    },
    {
      "cell_type": "code",
      "source": [
        "df"
      ],
      "metadata": {
        "colab": {
          "base_uri": "https://localhost:8080/",
          "height": 206
        },
        "id": "mS-rb9bGjVd4",
        "outputId": "73951eeb-2901-4efc-de1d-565b3f12bef0"
      },
      "execution_count": null,
      "outputs": [
        {
          "output_type": "execute_result",
          "data": {
            "text/plain": [
              "                                                Text\n",
              "0  [Machine, learning, (, ML, ), is, the, study, ...\n",
              "1  [[, 1, ], It, is, seen, as, a, part, of, artif...\n",
              "2  [Machine, learning, algorithms, build, a, mode...\n",
              "3  [[, 2, ], Machine, learning, algorithms, are, ...\n",
              "4                                          [[, 3, ]]"
            ],
            "text/html": [
              "\n",
              "  <div id=\"df-68ce5272-5d46-4c9d-b76b-ac6f9b118385\">\n",
              "    <div class=\"colab-df-container\">\n",
              "      <div>\n",
              "<style scoped>\n",
              "    .dataframe tbody tr th:only-of-type {\n",
              "        vertical-align: middle;\n",
              "    }\n",
              "\n",
              "    .dataframe tbody tr th {\n",
              "        vertical-align: top;\n",
              "    }\n",
              "\n",
              "    .dataframe thead th {\n",
              "        text-align: right;\n",
              "    }\n",
              "</style>\n",
              "<table border=\"1\" class=\"dataframe\">\n",
              "  <thead>\n",
              "    <tr style=\"text-align: right;\">\n",
              "      <th></th>\n",
              "      <th>Text</th>\n",
              "    </tr>\n",
              "  </thead>\n",
              "  <tbody>\n",
              "    <tr>\n",
              "      <th>0</th>\n",
              "      <td>[Machine, learning, (, ML, ), is, the, study, ...</td>\n",
              "    </tr>\n",
              "    <tr>\n",
              "      <th>1</th>\n",
              "      <td>[[, 1, ], It, is, seen, as, a, part, of, artif...</td>\n",
              "    </tr>\n",
              "    <tr>\n",
              "      <th>2</th>\n",
              "      <td>[Machine, learning, algorithms, build, a, mode...</td>\n",
              "    </tr>\n",
              "    <tr>\n",
              "      <th>3</th>\n",
              "      <td>[[, 2, ], Machine, learning, algorithms, are, ...</td>\n",
              "    </tr>\n",
              "    <tr>\n",
              "      <th>4</th>\n",
              "      <td>[[, 3, ]]</td>\n",
              "    </tr>\n",
              "  </tbody>\n",
              "</table>\n",
              "</div>\n",
              "      <button class=\"colab-df-convert\" onclick=\"convertToInteractive('df-68ce5272-5d46-4c9d-b76b-ac6f9b118385')\"\n",
              "              title=\"Convert this dataframe to an interactive table.\"\n",
              "              style=\"display:none;\">\n",
              "        \n",
              "  <svg xmlns=\"http://www.w3.org/2000/svg\" height=\"24px\"viewBox=\"0 0 24 24\"\n",
              "       width=\"24px\">\n",
              "    <path d=\"M0 0h24v24H0V0z\" fill=\"none\"/>\n",
              "    <path d=\"M18.56 5.44l.94 2.06.94-2.06 2.06-.94-2.06-.94-.94-2.06-.94 2.06-2.06.94zm-11 1L8.5 8.5l.94-2.06 2.06-.94-2.06-.94L8.5 2.5l-.94 2.06-2.06.94zm10 10l.94 2.06.94-2.06 2.06-.94-2.06-.94-.94-2.06-.94 2.06-2.06.94z\"/><path d=\"M17.41 7.96l-1.37-1.37c-.4-.4-.92-.59-1.43-.59-.52 0-1.04.2-1.43.59L10.3 9.45l-7.72 7.72c-.78.78-.78 2.05 0 2.83L4 21.41c.39.39.9.59 1.41.59.51 0 1.02-.2 1.41-.59l7.78-7.78 2.81-2.81c.8-.78.8-2.07 0-2.86zM5.41 20L4 18.59l7.72-7.72 1.47 1.35L5.41 20z\"/>\n",
              "  </svg>\n",
              "      </button>\n",
              "      \n",
              "  <style>\n",
              "    .colab-df-container {\n",
              "      display:flex;\n",
              "      flex-wrap:wrap;\n",
              "      gap: 12px;\n",
              "    }\n",
              "\n",
              "    .colab-df-convert {\n",
              "      background-color: #E8F0FE;\n",
              "      border: none;\n",
              "      border-radius: 50%;\n",
              "      cursor: pointer;\n",
              "      display: none;\n",
              "      fill: #1967D2;\n",
              "      height: 32px;\n",
              "      padding: 0 0 0 0;\n",
              "      width: 32px;\n",
              "    }\n",
              "\n",
              "    .colab-df-convert:hover {\n",
              "      background-color: #E2EBFA;\n",
              "      box-shadow: 0px 1px 2px rgba(60, 64, 67, 0.3), 0px 1px 3px 1px rgba(60, 64, 67, 0.15);\n",
              "      fill: #174EA6;\n",
              "    }\n",
              "\n",
              "    [theme=dark] .colab-df-convert {\n",
              "      background-color: #3B4455;\n",
              "      fill: #D2E3FC;\n",
              "    }\n",
              "\n",
              "    [theme=dark] .colab-df-convert:hover {\n",
              "      background-color: #434B5C;\n",
              "      box-shadow: 0px 1px 3px 1px rgba(0, 0, 0, 0.15);\n",
              "      filter: drop-shadow(0px 1px 2px rgba(0, 0, 0, 0.3));\n",
              "      fill: #FFFFFF;\n",
              "    }\n",
              "  </style>\n",
              "\n",
              "      <script>\n",
              "        const buttonEl =\n",
              "          document.querySelector('#df-68ce5272-5d46-4c9d-b76b-ac6f9b118385 button.colab-df-convert');\n",
              "        buttonEl.style.display =\n",
              "          google.colab.kernel.accessAllowed ? 'block' : 'none';\n",
              "\n",
              "        async function convertToInteractive(key) {\n",
              "          const element = document.querySelector('#df-68ce5272-5d46-4c9d-b76b-ac6f9b118385');\n",
              "          const dataTable =\n",
              "            await google.colab.kernel.invokeFunction('convertToInteractive',\n",
              "                                                     [key], {});\n",
              "          if (!dataTable) return;\n",
              "\n",
              "          const docLinkHtml = 'Like what you see? Visit the ' +\n",
              "            '<a target=\"_blank\" href=https://colab.research.google.com/notebooks/data_table.ipynb>data table notebook</a>'\n",
              "            + ' to learn more about interactive tables.';\n",
              "          element.innerHTML = '';\n",
              "          dataTable['output_type'] = 'display_data';\n",
              "          await google.colab.output.renderOutput(dataTable, element);\n",
              "          const docLink = document.createElement('div');\n",
              "          docLink.innerHTML = docLinkHtml;\n",
              "          element.appendChild(docLink);\n",
              "        }\n",
              "      </script>\n",
              "    </div>\n",
              "  </div>\n",
              "  "
            ]
          },
          "metadata": {},
          "execution_count": 72
        }
      ]
    },
    {
      "cell_type": "code",
      "source": [
        "for i in df[\"Text\"]:\n",
        "  print(len(i))"
      ],
      "metadata": {
        "colab": {
          "base_uri": "https://localhost:8080/"
        },
        "id": "o0hUQid8jlrv",
        "outputId": "2d85ac1a-20b2-4fba-a073-3dbbbd27a181"
      },
      "execution_count": null,
      "outputs": [
        {
          "output_type": "stream",
          "name": "stdout",
          "text": [
            "24\n",
            "13\n",
            "31\n",
            "46\n",
            "3\n"
          ]
        }
      ]
    },
    {
      "cell_type": "code",
      "source": [
        "!pip install gensim"
      ],
      "metadata": {
        "colab": {
          "base_uri": "https://localhost:8080/"
        },
        "id": "AU61DvHDj7xM",
        "outputId": "24f508e2-c58e-4d93-f0d0-e2d3438613c8"
      },
      "execution_count": null,
      "outputs": [
        {
          "output_type": "stream",
          "name": "stdout",
          "text": [
            "Requirement already satisfied: gensim in /usr/local/lib/python3.7/dist-packages (3.6.0)\n",
            "Requirement already satisfied: six>=1.5.0 in /usr/local/lib/python3.7/dist-packages (from gensim) (1.15.0)\n",
            "Requirement already satisfied: scipy>=0.18.1 in /usr/local/lib/python3.7/dist-packages (from gensim) (1.4.1)\n",
            "Requirement already satisfied: numpy>=1.11.3 in /usr/local/lib/python3.7/dist-packages (from gensim) (1.21.6)\n",
            "Requirement already satisfied: smart-open>=1.2.1 in /usr/local/lib/python3.7/dist-packages (from gensim) (6.0.0)\n"
          ]
        }
      ]
    },
    {
      "cell_type": "code",
      "source": [
        "from gensim.models import Word2Vec"
      ],
      "metadata": {
        "id": "ll3gabaPkGkW"
      },
      "execution_count": null,
      "outputs": []
    },
    {
      "cell_type": "code",
      "source": [
        ""
      ],
      "metadata": {
        "id": "neIvOgPdk5Js"
      },
      "execution_count": null,
      "outputs": []
    },
    {
      "cell_type": "code",
      "source": [
        "model = Word2Vec(sent, vector_size=100, window=6, min_count=1, sg=1, epochs=3)\n",
        "model.wv.key_to_index\n",
        "model.wv[\"Machine\"]\n",
        "model.wv.most_similar(positive=[\"Machine\", \"intelligence\"],negative=[\"algorithms\"])\n",
        "# sg=0(CBOW)\n",
        "# sg=1(skip_gram)\n",
        "\n",
        "# embedding\n",
        "# LSTM=\n",
        "\n",
        "\n",
        "# input, hidden, output\n",
        "\n"
      ],
      "metadata": {
        "id": "0ZItUffNkNuJ"
      },
      "execution_count": null,
      "outputs": []
    },
    {
      "cell_type": "code",
      "source": [
        "dir(model)"
      ],
      "metadata": {
        "colab": {
          "base_uri": "https://localhost:8080/"
        },
        "id": "JCPsYPVhsrUh",
        "outputId": "b8c124b7-70a6-476f-8512-74f5473a72dd"
      },
      "execution_count": null,
      "outputs": [
        {
          "output_type": "execute_result",
          "data": {
            "text/plain": [
              "['__class__',\n",
              " '__contains__',\n",
              " '__delattr__',\n",
              " '__dict__',\n",
              " '__dir__',\n",
              " '__doc__',\n",
              " '__eq__',\n",
              " '__format__',\n",
              " '__ge__',\n",
              " '__getattribute__',\n",
              " '__getitem__',\n",
              " '__gt__',\n",
              " '__hash__',\n",
              " '__init__',\n",
              " '__init_subclass__',\n",
              " '__le__',\n",
              " '__lt__',\n",
              " '__module__',\n",
              " '__ne__',\n",
              " '__new__',\n",
              " '__reduce__',\n",
              " '__reduce_ex__',\n",
              " '__repr__',\n",
              " '__setattr__',\n",
              " '__sizeof__',\n",
              " '__str__',\n",
              " '__subclasshook__',\n",
              " '__weakref__',\n",
              " '_adapt_by_suffix',\n",
              " '_check_input_data_sanity',\n",
              " '_check_training_sanity',\n",
              " '_clear_post_train',\n",
              " '_do_train_epoch',\n",
              " '_do_train_job',\n",
              " '_get_job_params',\n",
              " '_get_thread_working_mem',\n",
              " '_job_producer',\n",
              " '_load_specials',\n",
              " '_log_epoch_end',\n",
              " '_log_epoch_progress',\n",
              " '_log_progress',\n",
              " '_log_train_end',\n",
              " '_minimize_model',\n",
              " '_raw_word_count',\n",
              " '_save_specials',\n",
              " '_set_train_params',\n",
              " '_smart_save',\n",
              " '_train_epoch',\n",
              " '_train_epoch_corpusfile',\n",
              " '_update_job_params',\n",
              " '_worker_loop',\n",
              " '_worker_loop_corpusfile',\n",
              " 'accuracy',\n",
              " 'alpha',\n",
              " 'batch_words',\n",
              " 'build_vocab',\n",
              " 'build_vocab_from_freq',\n",
              " 'callbacks',\n",
              " 'cbow_mean',\n",
              " 'clear_sims',\n",
              " 'compute_loss',\n",
              " 'corpus_count',\n",
              " 'corpus_total_words',\n",
              " 'cum_table',\n",
              " 'delete_temporary_training_data',\n",
              " 'doesnt_match',\n",
              " 'epochs',\n",
              " 'estimate_memory',\n",
              " 'evaluate_word_pairs',\n",
              " 'get_latest_training_loss',\n",
              " 'hashfxn',\n",
              " 'hs',\n",
              " 'init_sims',\n",
              " 'intersect_word2vec_format',\n",
              " 'iter',\n",
              " 'layer1_size',\n",
              " 'load',\n",
              " 'load_word2vec_format',\n",
              " 'log_accuracy',\n",
              " 'max_final_vocab',\n",
              " 'min_alpha',\n",
              " 'min_alpha_yet_reached',\n",
              " 'min_count',\n",
              " 'model_trimmed_post_training',\n",
              " 'most_similar',\n",
              " 'most_similar_cosmul',\n",
              " 'n_similarity',\n",
              " 'negative',\n",
              " 'ns_exponent',\n",
              " 'predict_output_word',\n",
              " 'random',\n",
              " 'reset_from',\n",
              " 'running_training_loss',\n",
              " 'sample',\n",
              " 'save',\n",
              " 'save_word2vec_format',\n",
              " 'score',\n",
              " 'sg',\n",
              " 'similar_by_vector',\n",
              " 'similar_by_word',\n",
              " 'similarity',\n",
              " 'syn0_lockf',\n",
              " 'syn1',\n",
              " 'syn1neg',\n",
              " 'total_train_time',\n",
              " 'train',\n",
              " 'train_count',\n",
              " 'trainables',\n",
              " 'vector_size',\n",
              " 'vocabulary',\n",
              " 'window',\n",
              " 'wmdistance',\n",
              " 'workers',\n",
              " 'wv']"
            ]
          },
          "metadata": {},
          "execution_count": 86
        }
      ]
    },
    {
      "cell_type": "code",
      "source": [
        "Supervised\n",
        "datetime= class, regre, time,\n",
        "\n",
        "output == ,\n",
        "sequential, j, f, s, d"
      ],
      "metadata": {
        "id": "ioIxdKqksrRe"
      },
      "execution_count": null,
      "outputs": []
    },
    {
      "cell_type": "code",
      "source": [
        ""
      ],
      "metadata": {
        "id": "7YDR0g8nsrOx"
      },
      "execution_count": null,
      "outputs": []
    },
    {
      "cell_type": "code",
      "source": [
        "from tensorflow.keras.models import Sequential\n",
        "from tensorflow.keras.layers import Embedding\n",
        "\n",
        "model = Sequential([Embedding(input_dim=4, output_dim=10, input_shape=(2,)),\n",
        "                    Dense(2, activation=\"softmax\")])\n",
        "\n",
        "\n",
        "import numpy as np\n",
        "data = np.array([1,2])\n",
        "\n",
        "model.compile(loss=\"mse\", optimizer=\"adam\")"
      ],
      "metadata": {
        "id": "CLTXI1oJm_De"
      },
      "execution_count": null,
      "outputs": []
    },
    {
      "cell_type": "code",
      "source": [
        "len(model.predict(data)[0])"
      ],
      "metadata": {
        "colab": {
          "base_uri": "https://localhost:8080/"
        },
        "id": "F4mMoS_Fnltj",
        "outputId": "9b0100da-e2f6-49dc-a7e1-6229baea0e35"
      },
      "execution_count": null,
      "outputs": [
        {
          "output_type": "execute_result",
          "data": {
            "text/plain": [
              "10"
            ]
          },
          "metadata": {},
          "execution_count": 80
        }
      ]
    },
    {
      "cell_type": "code",
      "source": [
        "model.predict(data)"
      ],
      "metadata": {
        "colab": {
          "base_uri": "https://localhost:8080/"
        },
        "id": "wvqAQ6PDnshL",
        "outputId": "e892b4e3-f7e7-4a78-bc0f-32743b4a67b2"
      },
      "execution_count": null,
      "outputs": [
        {
          "output_type": "execute_result",
          "data": {
            "text/plain": [
              "array([[ 0.03776289,  0.02861787, -0.04920742,  0.00199139,  0.02310289,\n",
              "         0.01764722,  0.02755008, -0.01100236, -0.00063347, -0.04449498],\n",
              "       [ 0.03905555,  0.0083692 , -0.03877059, -0.00489817, -0.00784758,\n",
              "        -0.01847688, -0.02595363, -0.00350604,  0.03522172,  0.04971172]],\n",
              "      dtype=float32)"
            ]
          },
          "metadata": {},
          "execution_count": 81
        }
      ]
    },
    {
      "cell_type": "code",
      "source": [
        "!pip install polyglot"
      ],
      "metadata": {
        "colab": {
          "base_uri": "https://localhost:8080/"
        },
        "id": "gX_6Pe-IoC4g",
        "outputId": "8b7ca1c9-62e0-4fdf-d667-335af0f33b0d"
      },
      "execution_count": null,
      "outputs": [
        {
          "output_type": "stream",
          "name": "stdout",
          "text": [
            "Collecting polyglot\n",
            "  Downloading polyglot-16.7.4.tar.gz (126 kB)\n",
            "\u001b[?25l\r\u001b[K     |██▋                             | 10 kB 22.2 MB/s eta 0:00:01\r\u001b[K     |█████▏                          | 20 kB 22.9 MB/s eta 0:00:01\r\u001b[K     |███████▉                        | 30 kB 16.1 MB/s eta 0:00:01\r\u001b[K     |██████████▍                     | 40 kB 14.9 MB/s eta 0:00:01\r\u001b[K     |█████████████                   | 51 kB 12.2 MB/s eta 0:00:01\r\u001b[K     |███████████████▋                | 61 kB 14.0 MB/s eta 0:00:01\r\u001b[K     |██████████████████▏             | 71 kB 12.4 MB/s eta 0:00:01\r\u001b[K     |████████████████████▊           | 81 kB 12.3 MB/s eta 0:00:01\r\u001b[K     |███████████████████████▍        | 92 kB 13.3 MB/s eta 0:00:01\r\u001b[K     |██████████████████████████      | 102 kB 12.6 MB/s eta 0:00:01\r\u001b[K     |████████████████████████████▌   | 112 kB 12.6 MB/s eta 0:00:01\r\u001b[K     |███████████████████████████████▏| 122 kB 12.6 MB/s eta 0:00:01\r\u001b[K     |████████████████████████████████| 126 kB 12.6 MB/s \n",
            "\u001b[?25hBuilding wheels for collected packages: polyglot\n",
            "  Building wheel for polyglot (setup.py) ... \u001b[?25l\u001b[?25hdone\n",
            "  Created wheel for polyglot: filename=polyglot-16.7.4-py2.py3-none-any.whl size=52577 sha256=95e4c19de58e3b132f1ada4f46706211fb1bcfe21648f90d66a2848bbbe24d76\n",
            "  Stored in directory: /root/.cache/pip/wheels/09/bc/67/75c9de8e9726460bc0b101ad225ad025cb8ce9e0759beb9d52\n",
            "Successfully built polyglot\n",
            "Installing collected packages: polyglot\n",
            "Successfully installed polyglot-16.7.4\n"
          ]
        }
      ]
    },
    {
      "cell_type": "code",
      "source": [
        "!pip install pyicu"
      ],
      "metadata": {
        "colab": {
          "base_uri": "https://localhost:8080/"
        },
        "id": "Gudsb1wz01bS",
        "outputId": "7746730f-091d-4737-c791-f92b8fc32f7c"
      },
      "execution_count": null,
      "outputs": [
        {
          "output_type": "stream",
          "name": "stdout",
          "text": [
            "Collecting pyicu\n",
            "  Downloading PyICU-2.9.tar.gz (305 kB)\n",
            "\u001b[?25l\r\u001b[K     |█                               | 10 kB 23.6 MB/s eta 0:00:01\r\u001b[K     |██▏                             | 20 kB 27.0 MB/s eta 0:00:01\r\u001b[K     |███▏                            | 30 kB 28.9 MB/s eta 0:00:01\r\u001b[K     |████▎                           | 40 kB 30.7 MB/s eta 0:00:01\r\u001b[K     |█████▍                          | 51 kB 31.7 MB/s eta 0:00:01\r\u001b[K     |██████▍                         | 61 kB 34.7 MB/s eta 0:00:01\r\u001b[K     |███████▌                        | 71 kB 35.4 MB/s eta 0:00:01\r\u001b[K     |████████▋                       | 81 kB 36.3 MB/s eta 0:00:01\r\u001b[K     |█████████▋                      | 92 kB 38.7 MB/s eta 0:00:01\r\u001b[K     |██████████▊                     | 102 kB 26.6 MB/s eta 0:00:01\r\u001b[K     |███████████▉                    | 112 kB 26.6 MB/s eta 0:00:01\r\u001b[K     |████████████▉                   | 122 kB 26.6 MB/s eta 0:00:01\r\u001b[K     |██████████████                  | 133 kB 26.6 MB/s eta 0:00:01\r\u001b[K     |███████████████                 | 143 kB 26.6 MB/s eta 0:00:01\r\u001b[K     |████████████████                | 153 kB 26.6 MB/s eta 0:00:01\r\u001b[K     |█████████████████▏              | 163 kB 26.6 MB/s eta 0:00:01\r\u001b[K     |██████████████████▎             | 174 kB 26.6 MB/s eta 0:00:01\r\u001b[K     |███████████████████▎            | 184 kB 26.6 MB/s eta 0:00:01\r\u001b[K     |████████████████████▍           | 194 kB 26.6 MB/s eta 0:00:01\r\u001b[K     |█████████████████████▌          | 204 kB 26.6 MB/s eta 0:00:01\r\u001b[K     |██████████████████████▌         | 215 kB 26.6 MB/s eta 0:00:01\r\u001b[K     |███████████████████████▋        | 225 kB 26.6 MB/s eta 0:00:01\r\u001b[K     |████████████████████████▊       | 235 kB 26.6 MB/s eta 0:00:01\r\u001b[K     |█████████████████████████▊      | 245 kB 26.6 MB/s eta 0:00:01\r\u001b[K     |██████████████████████████▉     | 256 kB 26.6 MB/s eta 0:00:01\r\u001b[K     |████████████████████████████    | 266 kB 26.6 MB/s eta 0:00:01\r\u001b[K     |█████████████████████████████   | 276 kB 26.6 MB/s eta 0:00:01\r\u001b[K     |██████████████████████████████  | 286 kB 26.6 MB/s eta 0:00:01\r\u001b[K     |███████████████████████████████▏| 296 kB 26.6 MB/s eta 0:00:01\r\u001b[K     |████████████████████████████████| 305 kB 26.6 MB/s \n",
            "\u001b[?25h  Installing build dependencies ... \u001b[?25l\u001b[?25hdone\n",
            "  Getting requirements to build wheel ... \u001b[?25l\u001b[?25hdone\n",
            "    Preparing wheel metadata ... \u001b[?25l\u001b[?25hdone\n",
            "Building wheels for collected packages: pyicu\n",
            "  Building wheel for pyicu (PEP 517) ... \u001b[?25l\u001b[?25hdone\n",
            "  Created wheel for pyicu: filename=PyICU-2.9-cp37-cp37m-linux_x86_64.whl size=1375750 sha256=2bde3d2f3de17a73c2c517953289ec990aceb502fda620b402f9a77932f6dd4d\n",
            "  Stored in directory: /root/.cache/pip/wheels/28/88/93/6c1b06361e4cbd4e7f793fb456729f69798f9aa3fc2a791cd7\n",
            "Successfully built pyicu\n",
            "Installing collected packages: pyicu\n",
            "Successfully installed pyicu-2.9\n"
          ]
        }
      ]
    },
    {
      "cell_type": "code",
      "source": [
        "!pip install Morfessor"
      ],
      "metadata": {
        "colab": {
          "base_uri": "https://localhost:8080/"
        },
        "id": "j_9jdVSW06ob",
        "outputId": "5987c699-2bb6-40d3-a4ee-fc9f9f8cdc78"
      },
      "execution_count": null,
      "outputs": [
        {
          "output_type": "stream",
          "name": "stdout",
          "text": [
            "Collecting Morfessor\n",
            "  Downloading Morfessor-2.0.6-py3-none-any.whl (35 kB)\n",
            "Installing collected packages: Morfessor\n",
            "Successfully installed Morfessor-2.0.6\n"
          ]
        }
      ]
    },
    {
      "cell_type": "code",
      "source": [
        "!pip install pycld2"
      ],
      "metadata": {
        "colab": {
          "base_uri": "https://localhost:8080/"
        },
        "id": "enaT0P250-Y6",
        "outputId": "86ed1022-7c1c-437b-bc19-81f5a90e7fd9"
      },
      "execution_count": null,
      "outputs": [
        {
          "output_type": "stream",
          "name": "stdout",
          "text": [
            "Collecting pycld2\n",
            "  Downloading pycld2-0.41.tar.gz (41.4 MB)\n",
            "\u001b[K     |████████████████████████████████| 41.4 MB 1.2 MB/s \n",
            "\u001b[?25hBuilding wheels for collected packages: pycld2\n",
            "  Building wheel for pycld2 (setup.py) ... \u001b[?25l\u001b[?25hdone\n",
            "  Created wheel for pycld2: filename=pycld2-0.41-cp37-cp37m-linux_x86_64.whl size=9834184 sha256=19b57bec6606f92070252579afe86ccd0c135bc977fde7a8b3c92a66b19ed71d\n",
            "  Stored in directory: /root/.cache/pip/wheels/ed/e4/58/ed2e9f43c07d617cc81fe7aff0fc6e42b16c9cf6afe960b614\n",
            "Successfully built pycld2\n",
            "Installing collected packages: pycld2\n",
            "Successfully installed pycld2-0.41\n"
          ]
        }
      ]
    },
    {
      "cell_type": "code",
      "source": [
        "from polyglot.detect import Detector"
      ],
      "metadata": {
        "id": "uIhvUQgh1Oyf"
      },
      "execution_count": null,
      "outputs": []
    },
    {
      "cell_type": "code",
      "source": [
        "data = Detector(\"доброе утро\")\n",
        "print(data.language)"
      ],
      "metadata": {
        "colab": {
          "base_uri": "https://localhost:8080/"
        },
        "id": "qnypD-YU1r41",
        "outputId": "b3f817a9-98f8-4cc6-cd79-9b102bcec36f"
      },
      "execution_count": null,
      "outputs": [
        {
          "output_type": "stream",
          "name": "stderr",
          "text": [
            "Detector is not able to detect the language reliably.\n"
          ]
        },
        {
          "output_type": "stream",
          "name": "stdout",
          "text": [
            "name: Russian     code: ru       confidence:  95.0 read bytes:   512\n"
          ]
        }
      ]
    },
    {
      "cell_type": "code",
      "source": [
        "from polyglot.text import Text\n",
        "data = Text(\"Translate texts & full document files instantly. Accurate translations for individuals and Teams. Millions translate with DeepL every day.\")"
      ],
      "metadata": {
        "id": "Hs8IRe-n16xN"
      },
      "execution_count": null,
      "outputs": []
    },
    {
      "cell_type": "code",
      "source": [
        "data.words"
      ],
      "metadata": {
        "colab": {
          "base_uri": "https://localhost:8080/"
        },
        "id": "Lap8axr62bkK",
        "outputId": "4cf05ec0-1c4d-468f-b6f7-8127e283fa84"
      },
      "execution_count": null,
      "outputs": [
        {
          "output_type": "execute_result",
          "data": {
            "text/plain": [
              "WordList(['Translate', 'texts', '&', 'full', 'document', 'files', 'instantly', '.', 'Accurate', 'translations', 'for', 'individuals', 'and', 'Teams', '.', 'Millions', 'translate', 'with', 'DeepL', 'every', 'day', '.'])"
            ]
          },
          "metadata": {},
          "execution_count": 104
        }
      ]
    },
    {
      "cell_type": "code",
      "source": [
        "data.sentences"
      ],
      "metadata": {
        "colab": {
          "base_uri": "https://localhost:8080/"
        },
        "id": "rDgJLtKg2dgX",
        "outputId": "11e60a34-c41d-4475-ac84-083431b9ced3"
      },
      "execution_count": null,
      "outputs": [
        {
          "output_type": "execute_result",
          "data": {
            "text/plain": [
              "[Sentence(\"Translate texts & full document files instantly.\"),\n",
              " Sentence(\"Accurate translations for individuals and Teams.\"),\n",
              " Sentence(\"Millions translate with DeepL every day.\")]"
            ]
          },
          "metadata": {},
          "execution_count": 105
        }
      ]
    },
    {
      "cell_type": "code",
      "source": [
        "df = Text(\"Google is a American company, I live in America\")"
      ],
      "metadata": {
        "id": "Y7vONv8K2gn4"
      },
      "execution_count": null,
      "outputs": []
    },
    {
      "cell_type": "code",
      "source": [
        "!polyglot download embeddings2.en\n",
        "!polyglot download ner2.en\n",
        "df.entities"
      ],
      "metadata": {
        "colab": {
          "base_uri": "https://localhost:8080/"
        },
        "id": "7E3jBJeJ2yJx",
        "outputId": "247aefaf-cf39-4c6f-efb7-3496e8c150c3"
      },
      "execution_count": null,
      "outputs": [
        {
          "output_type": "stream",
          "name": "stdout",
          "text": [
            "[polyglot_data] Downloading package embeddings2.en to\n",
            "[polyglot_data]     /root/polyglot_data...\n",
            "[polyglot_data]   Package embeddings2.en is already up-to-date!\n",
            "[polyglot_data] Downloading package ner2.en to /root/polyglot_data...\n",
            "[polyglot_data]   Package ner2.en is already up-to-date!\n"
          ]
        },
        {
          "output_type": "execute_result",
          "data": {
            "text/plain": [
              "[I-ORG(['Google']), I-LOC(['American']), I-LOC(['America'])]"
            ]
          },
          "metadata": {},
          "execution_count": 116
        }
      ]
    },
    {
      "cell_type": "code",
      "source": [
        "!polyglot download pos2.en\n",
        "df.pos_tags"
      ],
      "metadata": {
        "colab": {
          "base_uri": "https://localhost:8080/"
        },
        "id": "ydZQLazp20GZ",
        "outputId": "4bb5a5e4-28c5-474b-ca10-40574b862db8"
      },
      "execution_count": null,
      "outputs": [
        {
          "output_type": "stream",
          "name": "stdout",
          "text": [
            "[polyglot_data] Downloading package pos2.en to /root/polyglot_data...\n"
          ]
        },
        {
          "output_type": "execute_result",
          "data": {
            "text/plain": [
              "[('Google', 'PROPN'),\n",
              " ('is', 'VERB'),\n",
              " ('a', 'DET'),\n",
              " ('American', 'ADJ'),\n",
              " ('company', 'NOUN'),\n",
              " (',', 'PUNCT'),\n",
              " ('I', 'PRON'),\n",
              " ('live', 'VERB'),\n",
              " ('in', 'ADP'),\n",
              " ('America', 'PROPN')]"
            ]
          },
          "metadata": {},
          "execution_count": 118
        }
      ]
    },
    {
      "cell_type": "code",
      "source": [
        "import nltk\n",
        "w1 = df.words\n",
        "nltk.download('averaged_perceptron_tagger')\n",
        "tagged = nltk.pos_tag(w1)"
      ],
      "metadata": {
        "colab": {
          "base_uri": "https://localhost:8080/"
        },
        "id": "CZdo-pz341Q0",
        "outputId": "5f3364d8-8f47-4fae-e18b-fb8ab2202879"
      },
      "execution_count": null,
      "outputs": [
        {
          "output_type": "stream",
          "name": "stdout",
          "text": [
            "[nltk_data] Downloading package averaged_perceptron_tagger to\n",
            "[nltk_data]     /root/nltk_data...\n",
            "[nltk_data]   Package averaged_perceptron_tagger is already up-to-\n",
            "[nltk_data]       date!\n"
          ]
        }
      ]
    },
    {
      "cell_type": "code",
      "source": [
        "expression = r\"NP:{<DT>?<JJ>*<NN>}\""
      ],
      "metadata": {
        "id": "xAJPkc9j3SnX"
      },
      "execution_count": null,
      "outputs": []
    },
    {
      "cell_type": "code",
      "source": [
        "n1 = nltk.RegexpParser(expression)"
      ],
      "metadata": {
        "id": "F-rd_28H5aNK"
      },
      "execution_count": null,
      "outputs": []
    },
    {
      "cell_type": "code",
      "source": [
        "res = n1.parse(tagged)\n",
        "#res.draw()"
      ],
      "metadata": {
        "id": "g8xqJi575uPj"
      },
      "execution_count": null,
      "outputs": []
    },
    {
      "cell_type": "code",
      "source": [
        "!polyglot download sentiment2.en\n",
        "df = Text(\"i did not watch that worst movie\")\n",
        "df.polarity  #posi, negat"
      ],
      "metadata": {
        "colab": {
          "base_uri": "https://localhost:8080/"
        },
        "id": "zZnHE9tc54Qh",
        "outputId": "f229c152-6f60-45f2-fcc9-1d2e2dbc2e99"
      },
      "execution_count": null,
      "outputs": [
        {
          "output_type": "stream",
          "name": "stdout",
          "text": [
            "[polyglot_data] Downloading package sentiment2.en to\n",
            "[polyglot_data]     /root/polyglot_data...\n",
            "[polyglot_data]   Package sentiment2.en is already up-to-date!\n"
          ]
        },
        {
          "output_type": "execute_result",
          "data": {
            "text/plain": [
              "-1.0"
            ]
          },
          "metadata": {},
          "execution_count": 131
        }
      ]
    },
    {
      "cell_type": "code",
      "source": [
        "!pip install textblob"
      ],
      "metadata": {
        "colab": {
          "base_uri": "https://localhost:8080/"
        },
        "id": "L4Nt8wBA6uNa",
        "outputId": "0290d036-0b0a-41e3-838e-58e7ad7da558"
      },
      "execution_count": null,
      "outputs": [
        {
          "output_type": "stream",
          "name": "stdout",
          "text": [
            "Requirement already satisfied: textblob in /usr/local/lib/python3.7/dist-packages (0.15.3)\n",
            "Requirement already satisfied: nltk>=3.1 in /usr/local/lib/python3.7/dist-packages (from textblob) (3.2.5)\n",
            "Requirement already satisfied: six in /usr/local/lib/python3.7/dist-packages (from nltk>=3.1->textblob) (1.15.0)\n"
          ]
        }
      ]
    },
    {
      "cell_type": "code",
      "source": [
        "from textblob import TextBlob"
      ],
      "metadata": {
        "id": "DS30Fzhs8K2f"
      },
      "execution_count": null,
      "outputs": []
    },
    {
      "cell_type": "code",
      "source": [
        "score = TextBlob(\"that movie was not  bad\").sentiment.polarity "
      ],
      "metadata": {
        "id": "5XAIGKCv8UEw"
      },
      "execution_count": null,
      "outputs": []
    },
    {
      "cell_type": "code",
      "source": [
        "score"
      ],
      "metadata": {
        "colab": {
          "base_uri": "https://localhost:8080/"
        },
        "id": "ACfOj1gx8hPS",
        "outputId": "ed8ad0a5-2e2c-4981-a7db-0733fa064997"
      },
      "execution_count": null,
      "outputs": [
        {
          "output_type": "execute_result",
          "data": {
            "text/plain": [
              "0.3499999999999999"
            ]
          },
          "metadata": {},
          "execution_count": 145
        }
      ]
    },
    {
      "cell_type": "code",
      "source": [
        "def senntiment(score):  \n",
        "  if score>0.5:\n",
        "    return \"Positive\"\n",
        "  elif score<0.0:\n",
        "    return \"Negative\"\n",
        "  else:\n",
        "    return \"Neutral\""
      ],
      "metadata": {
        "id": "gYP6FdXj9KjJ"
      },
      "execution_count": null,
      "outputs": []
    },
    {
      "cell_type": "code",
      "source": [
        "senntiment(score)"
      ],
      "metadata": {
        "colab": {
          "base_uri": "https://localhost:8080/",
          "height": 36
        },
        "id": "UkRMEC-T96aK",
        "outputId": "ca1b63e7-f8b3-4e3a-f6d3-b4c7b744ec59"
      },
      "execution_count": null,
      "outputs": [
        {
          "output_type": "execute_result",
          "data": {
            "text/plain": [
              "'Neutral'"
            ],
            "application/vnd.google.colaboratory.intrinsic+json": {
              "type": "string"
            }
          },
          "metadata": {},
          "execution_count": 150
        }
      ]
    },
    {
      "cell_type": "code",
      "source": [
        "from nltk.sentiment.vader import SentimentIntensityAnalyzer"
      ],
      "metadata": {
        "id": "SJEwJ4OU-EMD"
      },
      "execution_count": null,
      "outputs": []
    },
    {
      "cell_type": "code",
      "source": [
        "nltk.download('vader_lexicon')\n",
        "model = SentimentIntensityAnalyzer()"
      ],
      "metadata": {
        "colab": {
          "base_uri": "https://localhost:8080/"
        },
        "id": "1R6waSV9-b1x",
        "outputId": "6b12f1c6-7c87-4036-da4f-cc67410a050d"
      },
      "execution_count": null,
      "outputs": [
        {
          "output_type": "stream",
          "name": "stdout",
          "text": [
            "[nltk_data] Downloading package vader_lexicon to /root/nltk_data...\n"
          ]
        }
      ]
    },
    {
      "cell_type": "code",
      "source": [
        "model.polarity_scores(\"The movie was not that bad\")"
      ],
      "metadata": {
        "colab": {
          "base_uri": "https://localhost:8080/"
        },
        "id": "dzS_P6WK-h5o",
        "outputId": "a2dd15d6-75ff-4458-e567-d22b9c61f089"
      },
      "execution_count": null,
      "outputs": [
        {
          "output_type": "execute_result",
          "data": {
            "text/plain": [
              "{'compound': 0.431, 'neg': 0.0, 'neu': 0.637, 'pos': 0.363}"
            ]
          },
          "metadata": {},
          "execution_count": 154
        }
      ]
    },
    {
      "cell_type": "code",
      "source": [
        "#nltk\n",
        "#tensorflow\n",
        "#gensim\n",
        "#spacy\n",
        "#polyglot\n",
        "#textblob\n",
        "#vocabulory\n",
        "#pynlpi\n",
        "#stanford corenlp python\n",
        "#montilingua"
      ],
      "metadata": {
        "id": "c87im_tb-uBu"
      },
      "execution_count": null,
      "outputs": []
    },
    {
      "cell_type": "code",
      "source": [
        "import spacy\n",
        "# en_core_web_sm : CNN 11MB\n",
        "# en_core_web_md : glove vec> 91mb\n",
        "# en_core_web_lg : 789mb"
      ],
      "metadata": {
        "id": "BOAL3x7S_mPt"
      },
      "execution_count": null,
      "outputs": []
    },
    {
      "cell_type": "code",
      "source": [
        "model = spacy.load(\"en_core_web_sm\")"
      ],
      "metadata": {
        "id": "eqdwakKZ__m-"
      },
      "execution_count": null,
      "outputs": []
    },
    {
      "cell_type": "code",
      "source": [
        "l1 = model(\"how are you\")"
      ],
      "metadata": {
        "id": "6HclDq7lAIq0"
      },
      "execution_count": null,
      "outputs": []
    },
    {
      "cell_type": "code",
      "source": [
        "for i in l1:\n",
        "  print(i.text,\" ====>\",i.pos_)"
      ],
      "metadata": {
        "colab": {
          "base_uri": "https://localhost:8080/"
        },
        "id": "rBJIWd5IAN_4",
        "outputId": "508ca7a2-6543-4a46-82be-44f508eb4928"
      },
      "execution_count": null,
      "outputs": [
        {
          "output_type": "stream",
          "name": "stdout",
          "text": [
            "how  ====> ADV\n",
            "are  ====> AUX\n",
            "you  ====> PRON\n"
          ]
        }
      ]
    },
    {
      "cell_type": "code",
      "source": [
        "spacy.explain(\"AUX\")"
      ],
      "metadata": {
        "colab": {
          "base_uri": "https://localhost:8080/",
          "height": 36
        },
        "id": "VhZWPYQvAUt8",
        "outputId": "116b1381-97c1-4bf8-9696-2dc03e7adf51"
      },
      "execution_count": null,
      "outputs": [
        {
          "output_type": "execute_result",
          "data": {
            "text/plain": [
              "'auxiliary'"
            ],
            "application/vnd.google.colaboratory.intrinsic+json": {
              "type": "string"
            }
          },
          "metadata": {},
          "execution_count": 161
        }
      ]
    },
    {
      "cell_type": "code",
      "source": [
        "for i in l1:\n",
        "  print(i.text,\" ====>\",i.dep_)"
      ],
      "metadata": {
        "colab": {
          "base_uri": "https://localhost:8080/"
        },
        "id": "EhSKTGouAj66",
        "outputId": "789d1771-e1cc-4c8d-a06d-ab04fd1d1edd"
      },
      "execution_count": null,
      "outputs": [
        {
          "output_type": "stream",
          "name": "stdout",
          "text": [
            "how  ====> advmod\n",
            "are  ====> ROOT\n",
            "you  ====> nsubj\n"
          ]
        }
      ]
    },
    {
      "cell_type": "code",
      "source": [
        "l1 = model(\"Indian currency 77 rupees\")\n",
        "for i in l1.ents:\n",
        "  print(i.text,\" ====>\",i.label_)"
      ],
      "metadata": {
        "colab": {
          "base_uri": "https://localhost:8080/"
        },
        "id": "ubxXHO9EAp5A",
        "outputId": "6ffec598-42d3-4c52-c4ff-ea7667b3687c"
      },
      "execution_count": null,
      "outputs": [
        {
          "output_type": "stream",
          "name": "stdout",
          "text": [
            "Indian  ====> NORP\n",
            "77  ====> CARDINAL\n"
          ]
        }
      ]
    },
    {
      "cell_type": "code",
      "source": [
        "spacy.explain(\"NORP\")"
      ],
      "metadata": {
        "colab": {
          "base_uri": "https://localhost:8080/",
          "height": 36
        },
        "id": "kuKuw1pjA9aE",
        "outputId": "613d92b6-5395-4245-89fc-3ee090985111"
      },
      "execution_count": null,
      "outputs": [
        {
          "output_type": "execute_result",
          "data": {
            "text/plain": [
              "'Nationalities or religious or political groups'"
            ],
            "application/vnd.google.colaboratory.intrinsic+json": {
              "type": "string"
            }
          },
          "metadata": {},
          "execution_count": 165
        }
      ]
    },
    {
      "cell_type": "code",
      "source": [
        ""
      ],
      "metadata": {
        "id": "1u-bIzuZBIux"
      },
      "execution_count": null,
      "outputs": []
    }
  ]
}