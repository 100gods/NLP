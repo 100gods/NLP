{
  "nbformat": 4,
  "nbformat_minor": 0,
  "metadata": {
    "colab": {
      "name": "17 may 2022.ipynb",
      "provenance": [],
      "collapsed_sections": [],
      "include_colab_link": true
    },
    "kernelspec": {
      "name": "python3",
      "display_name": "Python 3"
    },
    "language_info": {
      "name": "python"
    }
  },
  "cells": [
    {
      "cell_type": "markdown",
      "metadata": {
        "id": "view-in-github",
        "colab_type": "text"
      },
      "source": [
        "<a href=\"https://colab.research.google.com/github/100gods/NLP/blob/main/17_may_2022.ipynb\" target=\"_parent\"><img src=\"https://colab.research.google.com/assets/colab-badge.svg\" alt=\"Open In Colab\"/></a>"
      ]
    },
    {
      "cell_type": "code",
      "execution_count": null,
      "metadata": {
        "id": "Kvi9vsonAJoa"
      },
      "outputs": [],
      "source": [
        "f = open(\"chatbot.txt\",\"r\", errors=\"ignore\")\n",
        "raw = f.read()"
      ]
    },
    {
      "cell_type": "code",
      "source": [
        "raw = raw.lower()"
      ],
      "metadata": {
        "id": "CmjMD_MzjQhn"
      },
      "execution_count": null,
      "outputs": []
    },
    {
      "cell_type": "code",
      "source": [
        "import nltk\n",
        "nltk.download('punkt')\n",
        "from nltk.tokenize import sent_tokenize\n",
        "sent_tokens = sent_tokenize(raw)"
      ],
      "metadata": {
        "colab": {
          "base_uri": "https://localhost:8080/"
        },
        "id": "PoVy2Taxjeuu",
        "outputId": "0a647338-6622-4179-a507-f7e5fa968ad4"
      },
      "execution_count": null,
      "outputs": [
        {
          "output_type": "stream",
          "name": "stdout",
          "text": [
            "[nltk_data] Downloading package punkt to /root/nltk_data...\n",
            "[nltk_data]   Unzipping tokenizers/punkt.zip.\n"
          ]
        }
      ]
    },
    {
      "cell_type": "code",
      "source": [
        "greeting_input = (\"hello\", \"hi\", \"hey\")\n",
        "greeting_output = [\"Good morning\", \"welcome\"]"
      ],
      "metadata": {
        "id": "nV0zXJTKj1sq"
      },
      "execution_count": null,
      "outputs": []
    },
    {
      "cell_type": "code",
      "source": [
        "import random\n",
        "def greeting(sentence):\n",
        "  for word in sentence.split():\n",
        "    if word.lower() in greeting_input:\n",
        "      return random.choice(greeting_output)"
      ],
      "metadata": {
        "id": "ZmHNhUtIkWE1"
      },
      "execution_count": null,
      "outputs": []
    },
    {
      "cell_type": "code",
      "source": [
        "from sklearn.feature_extraction.text import TfidfVectorizer\n",
        "from sklearn.metrics.pairwise import cosine_similarity\n",
        "\n",
        "def response(user_data):\n",
        "  output =\"\"\n",
        "  sent_tokens.append(user_data)\n",
        "  model = TfidfVectorizer()\n",
        "  tfidf = model.fit_transform(sent_tokens)\n",
        "  values = cosine_similarity(tfidf[-1], tfidf)\n",
        "  index = values.argsort()[0][-2]\n",
        "  flat = values.flatten()\n",
        "  flat.sort()\n",
        "  req_tfidf = flat[-2]\n",
        "  if(req_tfidf==0):\n",
        "    output = output+ \"I am Sorry, I dont understand\"\n",
        "    return output\n",
        "  else:\n",
        "    output = output + sent_tokens[index]\n",
        "    return output"
      ],
      "metadata": {
        "id": "U9ASW0LUk74v"
      },
      "execution_count": null,
      "outputs": []
    },
    {
      "cell_type": "code",
      "source": [
        "flag=True\n",
        "\n",
        "print(\"Siri: Welcome\")\n",
        "while(flag==True):\n",
        "  data = input()\n",
        "  data = data.lower()\n",
        "  if (data!=\"bye\"):\n",
        "    if(data==\"thanks\"):\n",
        "      flag=False\n",
        "      print(\"You are Welcome\")\n",
        "    else:\n",
        "      if(greeting(data)!=None):\n",
        "        print(\"Siri: \", greeting(data))\n",
        "      else:\n",
        "        print(\"Siri: \", end=\" \")\n",
        "        print(response(data))\n",
        "        sent_tokens.remove(data)\n",
        "\n",
        "  else:\n",
        "    flag=False\n",
        "    print(\"Bye tc\")\n"
      ],
      "metadata": {
        "colab": {
          "base_uri": "https://localhost:8080/"
        },
        "id": "oVXGfxx8pOUI",
        "outputId": "a0e1dbcb-95ab-49d3-a7a7-b9a1341d7a42"
      },
      "execution_count": null,
      "outputs": [
        {
          "output_type": "stream",
          "name": "stdout",
          "text": [
            "Siri: Welcome\n",
            "what is the time now\n",
            "Siri:  what is the time now\n",
            "can i get the course details\n",
            "Siri:  it can also provide useful insights that can improve the final user experience.\n",
            "explain about analytics\n",
            "Siri:  it can be divided into design, building, analytics and maintenance.\n",
            "how is weather\n",
            "Siri:  such programs are often designed to convincingly simulate how a human would behave as a conversational partner, thereby passing the turing test.\n",
            "bye\n",
            "Bye tc\n"
          ]
        }
      ]
    },
    {
      "cell_type": "code",
      "source": [
        ""
      ],
      "metadata": {
        "id": "bM-zXwTQpOD_"
      },
      "execution_count": null,
      "outputs": []
    },
    {
      "cell_type": "code",
      "source": [
        ""
      ],
      "metadata": {
        "id": "1dEoNM4opN_N"
      },
      "execution_count": null,
      "outputs": []
    },
    {
      "cell_type": "code",
      "source": [
        ""
      ],
      "metadata": {
        "id": "UYGiX7wspN-L"
      },
      "execution_count": null,
      "outputs": []
    },
    {
      "cell_type": "code",
      "source": [
        ""
      ],
      "metadata": {
        "id": "-zmS8peNpNfX"
      },
      "execution_count": null,
      "outputs": []
    },
    {
      "cell_type": "code",
      "source": [
        "import numpy as np\n",
        "arr1 = np.array([[1,23,85]])"
      ],
      "metadata": {
        "id": "f3WbfciHmfBV"
      },
      "execution_count": null,
      "outputs": []
    },
    {
      "cell_type": "code",
      "source": [
        "arr1.ndim"
      ],
      "metadata": {
        "colab": {
          "base_uri": "https://localhost:8080/"
        },
        "id": "QjuviwhenD6i",
        "outputId": "f60d806a-7969-4f96-ed50-34ecad549a03"
      },
      "execution_count": null,
      "outputs": [
        {
          "output_type": "execute_result",
          "data": {
            "text/plain": [
              "2"
            ]
          },
          "metadata": {},
          "execution_count": 13
        }
      ]
    },
    {
      "cell_type": "code",
      "source": [
        "arr1[0]"
      ],
      "metadata": {
        "colab": {
          "base_uri": "https://localhost:8080/"
        },
        "id": "je4SnEsenErJ",
        "outputId": "27140610-2ca3-4d3f-eba8-893a31985eaa"
      },
      "execution_count": null,
      "outputs": [
        {
          "output_type": "execute_result",
          "data": {
            "text/plain": [
              "array([ 1, 23, 85])"
            ]
          },
          "metadata": {},
          "execution_count": 14
        }
      ]
    },
    {
      "cell_type": "code",
      "source": [
        "arr1"
      ],
      "metadata": {
        "colab": {
          "base_uri": "https://localhost:8080/"
        },
        "id": "Nk2pWW5FnH1o",
        "outputId": "f931f305-2815-4aab-ebba-c7bd42a75945"
      },
      "execution_count": null,
      "outputs": [
        {
          "output_type": "execute_result",
          "data": {
            "text/plain": [
              "array([[ 1, 23, 85]])"
            ]
          },
          "metadata": {},
          "execution_count": 15
        }
      ]
    },
    {
      "cell_type": "code",
      "source": [
        ""
      ],
      "metadata": {
        "id": "4N8DN9tsnJ1P"
      },
      "execution_count": null,
      "outputs": []
    }
  ]
}